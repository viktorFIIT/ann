{
 "cells": [
  {
   "cell_type": "markdown",
   "metadata": {},
   "source": [
    "** Classification of birds to species with Convolutional Neural Network**\n",
    "\n",
    "Dataset we work with: https://www.kaggle.com/datasets/gpiosenka/100-bird-species/. Check what Convolutional neural networks are all about at https://d2l.ai/chapter_convolutional-neural-networks/index.html before making changes to this notebook."
   ]
  },
  {
   "cell_type": "code",
   "execution_count": 1,
   "metadata": {
    "execution": {
     "iopub.execute_input": "2021-07-04T19:48:30.702777Z",
     "iopub.status.busy": "2021-07-04T19:48:30.702432Z",
     "iopub.status.idle": "2021-07-04T19:48:38.452291Z",
     "shell.execute_reply": "2021-07-04T19:48:38.450907Z",
     "shell.execute_reply.started": "2021-07-04T19:48:30.702703Z"
    }
   },
   "outputs": [],
   "source": [
    "# import utilities\n",
    "import os\n",
    "import matplotlib.pyplot as plt\n",
    "\n",
    "# import tensorflow\n",
    "import tensorflow as tf\n",
    "from keras.preprocessing.image import load_img, img_to_array, ImageDataGenerator\n",
    "from tensorflow.keras.layers import Input, Dense, Flatten, Activation\n",
    "from tensorflow.keras.layers import Conv2D, MaxPooling2D\n",
    "from tensorflow.keras.layers import BatchNormalization\n",
    "from tensorflow.keras.callbacks import EarlyStopping, ReduceLROnPlateau"
   ]
  },
  {
   "cell_type": "markdown",
   "metadata": {},
   "source": [
    "Training set consists of 58 388 RGB images (that means 3 channels), 224px x 224px. Validation set consists of 2000 images and test set consists of 2000 images."
   ]
  },
  {
   "cell_type": "code",
   "execution_count": 2,
   "metadata": {
    "execution": {
     "iopub.execute_input": "2021-07-04T19:50:40.928323Z",
     "iopub.status.busy": "2021-07-04T19:50:40.928026Z",
     "iopub.status.idle": "2021-07-04T19:50:40.943859Z",
     "shell.execute_reply": "2021-07-04T19:50:40.943012Z",
     "shell.execute_reply.started": "2021-07-04T19:50:40.928295Z"
    }
   },
   "outputs": [],
   "source": [
    "BASE_DIR = 'C:/Users/vikto/OneDrive/Desktop/ann/dataset'\n",
    "\n",
    "TRAIN_DIR = os.path.join(BASE_DIR, 'training')\n",
    "VALIDATION_DIR = os.path.join(BASE_DIR, 'validation')\n",
    "TEST_DIR = os.path.join(BASE_DIR, 'testing')"
   ]
  },
  {
   "cell_type": "code",
   "execution_count": 3,
   "metadata": {
    "execution": {
     "iopub.execute_input": "2021-07-04T19:50:45.326576Z",
     "iopub.status.busy": "2021-07-04T19:50:45.326284Z",
     "iopub.status.idle": "2021-07-04T19:50:45.362266Z",
     "shell.execute_reply": "2021-07-04T19:50:45.361629Z",
     "shell.execute_reply.started": "2021-07-04T19:50:45.326533Z"
    }
   },
   "outputs": [],
   "source": [
    "CATEGORIES = os.listdir(TRAIN_DIR)\n",
    "Category_count = len(CATEGORIES)"
   ]
  },
  {
   "cell_type": "markdown",
   "metadata": {},
   "source": [
    "Augmenting training dataset because male birds are present more than female birds. This technique is one of those used to solve class imbalance. We work with a dataset through adapters, which are data generators from Tensorflow / Keras. This allows us to augment dataset as needed without need to code up this utility from scratch.\n",
    "\n",
    "Thus I am adding here slightly different images created from existing ones to the dataset to avoid model overfitting."
   ]
  },
  {
   "cell_type": "code",
   "execution_count": 4,
   "metadata": {
    "execution": {
     "iopub.execute_input": "2021-07-04T19:51:00.728664Z",
     "iopub.status.busy": "2021-07-04T19:51:00.728356Z",
     "iopub.status.idle": "2021-07-04T19:51:00.732946Z",
     "shell.execute_reply": "2021-07-04T19:51:00.731797Z",
     "shell.execute_reply.started": "2021-07-04T19:51:00.728632Z"
    }
   },
   "outputs": [],
   "source": [
    "General_datagen = ImageDataGenerator(rescale=1./255, )\n",
    "\n",
    "Augment_datagen = ImageDataGenerator(rescale=1./255,\n",
    "    shear_range=0.4, \n",
    "    height_shift_range=0.4,\n",
    "    zoom_range=0.1, \n",
    "    horizontal_flip=True) "
   ]
  },
  {
   "cell_type": "code",
   "execution_count": 5,
   "metadata": {
    "execution": {
     "iopub.execute_input": "2021-07-04T19:51:04.169Z",
     "iopub.status.busy": "2021-07-04T19:51:04.168706Z",
     "iopub.status.idle": "2021-07-04T19:51:11.182658Z",
     "shell.execute_reply": "2021-07-04T19:51:11.180853Z",
     "shell.execute_reply.started": "2021-07-04T19:51:04.168973Z"
    }
   },
   "outputs": [
    {
     "name": "stdout",
     "output_type": "stream",
     "text": [
      "Found 808 images belonging to 5 classes.\n",
      "Found 25 images belonging to 5 classes.\n",
      "Found 25 images belonging to 5 classes.\n"
     ]
    }
   ],
   "source": [
    "train_data = Augment_datagen.flow_from_directory(TRAIN_DIR, target_size=(224,224), class_mode=\"categorical\")\n",
    "Train_groups = len(train_data)\n",
    "\n",
    "validation_data = General_datagen.flow_from_directory(VALIDATION_DIR, target_size=(224, 224), class_mode=\"categorical\")\n",
    "Valid_groups = len(validation_data)\n",
    "\n",
    "test_data = General_datagen.flow_from_directory(TEST_DIR, target_size=(224, 224), class_mode=\"categorical\")\n",
    "Test_groups = len(test_data)"
   ]
  },
  {
   "cell_type": "markdown",
   "metadata": {},
   "source": [
    "** Architecture of this Convolutional Neural Network **\n",
    "\n",
    "1. Convolutional layer - to extract patterns and abstract from low level features of images\n",
    "2. Activation layer - activation functions with a same purpose as they have in MLP\n",
    "3. Pooling layer - optimization, here we use Maxpooling, goal is to try average pooling as well\n",
    "4. Normalization layer - batch normalization as optimization technique. Conducted after activation, before another convolution\n",
    "5. Dense layer - fully connected layer.\n",
    "\n",
    "Input to this convolutional network are images 224 x 224 px with 3 channels. That means parameters"
   ]
  },
  {
   "cell_type": "code",
   "execution_count": 6,
   "metadata": {
    "execution": {
     "iopub.execute_input": "2021-07-04T19:51:29.362081Z",
     "iopub.status.busy": "2021-07-04T19:51:29.361815Z",
     "iopub.status.idle": "2021-07-04T20:52:37.634659Z",
     "shell.execute_reply": "2021-07-04T20:52:37.633894Z",
     "shell.execute_reply.started": "2021-07-04T19:51:29.362054Z"
    }
   },
   "outputs": [
    {
     "name": "stdout",
     "output_type": "stream",
     "text": [
      "Epoch 1/10\n",
      "26/26 [==============================] - 115s 4s/step - loss: 3.0637 - accuracy: 0.4369 - val_loss: 10.2404 - val_accuracy: 0.2000\n",
      "Epoch 2/10\n",
      "26/26 [==============================] - 114s 4s/step - loss: 1.1892 - accuracy: 0.5545 - val_loss: 3.5181 - val_accuracy: 0.2000\n",
      "Epoch 3/10\n",
      "26/26 [==============================] - 123s 5s/step - loss: 0.9638 - accuracy: 0.6547 - val_loss: 3.8827 - val_accuracy: 0.2000\n",
      "Epoch 4/10\n",
      "26/26 [==============================] - 123s 5s/step - loss: 0.8775 - accuracy: 0.6658 - val_loss: 3.1190 - val_accuracy: 0.0800\n",
      "Epoch 5/10\n",
      "26/26 [==============================] - 121s 5s/step - loss: 0.9233 - accuracy: 0.6770 - val_loss: 3.2841 - val_accuracy: 0.2800\n",
      "Epoch 6/10\n",
      "26/26 [==============================] - 120s 5s/step - loss: 0.7587 - accuracy: 0.7339 - val_loss: 4.3359 - val_accuracy: 0.2400\n",
      "Epoch 7/10\n",
      "26/26 [==============================] - 117s 4s/step - loss: 0.7662 - accuracy: 0.6980 - val_loss: 3.3534 - val_accuracy: 0.3600\n",
      "Epoch 8/10\n",
      "26/26 [==============================] - 122s 5s/step - loss: 0.7723 - accuracy: 0.7364 - val_loss: 2.6270 - val_accuracy: 0.3600\n",
      "Epoch 9/10\n",
      "26/26 [==============================] - 120s 5s/step - loss: 0.7487 - accuracy: 0.7364 - val_loss: 3.8465 - val_accuracy: 0.2800\n",
      "Epoch 10/10\n",
      "26/26 [==============================] - 116s 4s/step - loss: 0.7327 - accuracy: 0.7389 - val_loss: 4.1258 - val_accuracy: 0.2800\n"
     ]
    }
   ],
   "source": [
    "tf.keras.backend.clear_session()\n",
    "\n",
    "IMAGE = load_img(\"C:/Users/vikto/OneDrive/Desktop/ann/dataset/testing/ALBERTS TOWHEE/1.jpg\")\n",
    "IMAGEDATA = img_to_array(IMAGE)\n",
    "SHAPE = IMAGEDATA.shape\n",
    "\n",
    "model = tf.keras.models.Sequential()\n",
    "\n",
    "model.add(Conv2D(64, (3, 3), padding='same',input_shape=SHAPE))\n",
    "model.add(Activation('tanh'))\n",
    "model.add(BatchNormalization())\n",
    "\n",
    "model.add(Conv2D(64, (3, 3)))\n",
    "model.add(Activation('tanh'))\n",
    "model.add(MaxPooling2D(pool_size=(2, 2))) \n",
    "model.add(BatchNormalization())\n",
    "\n",
    "model.add(Conv2D(64, (3, 3), padding='same'))\n",
    "model.add(Activation('tanh'))\n",
    "model.add(BatchNormalization()) \n",
    "\n",
    "model.add(Conv2D(64, (3, 3)))\n",
    "model.add(Activation('tanh'))\n",
    "model.add(MaxPooling2D(pool_size=(2, 2))) \n",
    "model.add(BatchNormalization())\n",
    "\n",
    "model.add(Conv2D(64, (3, 3), padding='same')) \n",
    "model.add(Activation('relu'))\n",
    "model.add(BatchNormalization())\n",
    "\n",
    "model.add(Flatten()) \n",
    "model.add(Dense(512)) \n",
    "model.add(Activation('relu'))\n",
    "model.add(BatchNormalization())\n",
    "model.add(Dense(Category_count)) \n",
    "model.add(Activation('softmax'))\n",
    "\n",
    "model.compile(optimizer = tf.keras.optimizers.Adam(),\n",
    "               loss = 'categorical_crossentropy',\n",
    "               metrics = ['accuracy'])\n",
    "\n",
    "EPOCHS = 10\n",
    "BATCH_SIZE = 50\n",
    "\n",
    "history = model.fit(train_data, epochs=EPOCHS, batch_size=BATCH_SIZE, validation_data=validation_data, validation_steps=Valid_groups, verbose=1)"
   ]
  },
  {
   "cell_type": "markdown",
   "metadata": {
    "execution": {
     "iopub.execute_input": "2021-07-04T20:52:37.636866Z",
     "iopub.status.busy": "2021-07-04T20:52:37.636632Z",
     "iopub.status.idle": "2021-07-04T20:52:49.030372Z",
     "shell.execute_reply": "2021-07-04T20:52:49.029137Z",
     "shell.execute_reply.started": "2021-07-04T20:52:37.636838Z"
    }
   },
   "source": [
    "** Model Evaluation **"
   ]
  },
  {
   "cell_type": "code",
   "execution_count": 11,
   "metadata": {},
   "outputs": [
    {
     "data": {
      "image/png": "[encoded data removed]",
      "text/plain": [
       "<Figure size 432x288 with 1 Axes>"
      ]
     },
     "metadata": {
      "needs_background": "light"
     },
     "output_type": "display_data"
    },
    {
     "data": {
      "image/png": "[encoded data removed]",
      "text/plain": [
       "<Figure size 432x288 with 1 Axes>"
      ]
     },
     "metadata": {
      "needs_background": "light"
     },
     "output_type": "display_data"
    },
    {
     "name": "stdout",
     "output_type": "stream",
     "text": [
      "1/1 [==============================] - 1s 1s/step - loss: 5.8380 - accuracy: 0.2400\n",
      "Test loss: 5.83795166015625\n",
      "Test accuracy: 0.23999999463558197\n"
     ]
    }
   ],
   "source": [
    "plt.plot(history.history['accuracy'])\n",
    "plt.plot(history.history['val_accuracy'])\n",
    "plt.title('Model accuracy')\n",
    "plt.ylabel('Accuracy')\n",
    "plt.xlabel('Epoch')\n",
    "plt.legend(['Train', 'Validation'], loc='upper left')\n",
    "plt.show()\n",
    "\n",
    "plt.plot(history.history['loss'])\n",
    "plt.plot(history.history['val_loss'])\n",
    "plt.title('Model loss')\n",
    "plt.ylabel('Loss')\n",
    "plt.xlabel('Epoch')\n",
    "plt.legend(['Train', 'Validation'], loc='upper left')\n",
    "plt.show()\n",
    "\n",
    "scores = model.evaluate(test_data, verbose=1)\n",
    "print('Test loss:', scores[0])\n",
    "print('Test accuracy:', scores[1])"
   ]
  },
  {
   "cell_type": "code",
   "execution_count": null,
   "metadata": {},
   "outputs": [],
   "source": []
  }
 ],
 "metadata": {
  "kernelspec": {
   "display_name": "Python 3 (ipykernel)",
   "language": "python",
   "name": "python3"
  },
  "language_info": {
   "codemirror_mode": {
    "name": "ipython",
    "version": 3
   },
   "file_extension": ".py",
   "mimetype": "text/x-python",
   "name": "python",
   "nbconvert_exporter": "python",
   "pygments_lexer": "ipython3",
   "version": "3.8.0"
  }
 },
 "nbformat": 4,
 "nbformat_minor": 4
}
