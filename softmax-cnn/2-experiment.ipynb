{
 "cells": [
  {
   "cell_type": "markdown",
   "metadata": {},
   "source": [
    "**Classification of birds to species with Convolutional Neural Network**\n",
    "\n",
    "Learning paradigm: (strong) supervised learning\n",
    "\n",
    "<u>This notebook documents 2. experiment conducted in 10th of April 2022</u>.\n",
    "\n",
    "Dataset I work with is: https://www.kaggle.com/datasets/gpiosenka/100-bird-species/. Check what Convolutional neural networks are all about at https://d2l.ai/chapter_convolutional-neural-networks/index.html before making changes to this notebook.\n",
    "\n",
    "Dataset was extracted to the same folder as this notebook was placed in.\n",
    "\n",
    "**What is our task here**\n",
    "\n",
    "Task here was to build more powerful CNN than one from the first experiment. Task was to speed up learning process and achieve a better accuracy in classification task."
   ]
  },
  {
   "cell_type": "code",
   "execution_count": 1,
   "metadata": {
    "execution": {
     "iopub.execute_input": "2021-07-04T19:48:30.702777Z",
     "iopub.status.busy": "2021-07-04T19:48:30.702432Z",
     "iopub.status.idle": "2021-07-04T19:48:38.452291Z",
     "shell.execute_reply": "2021-07-04T19:48:38.450907Z",
     "shell.execute_reply.started": "2021-07-04T19:48:30.702703Z"
    }
   },
   "outputs": [],
   "source": [
    "# import utilities\n",
    "import os # to get relative path to project directory and therefore dataset\n",
    "import matplotlib.pyplot as plt # to evaluate model performance\n",
    "import numpy as np # utilities needed to visualize model performance\n",
    "import pandas as pd # utilities needed to visualize model performance\n",
    "from sklearn.metrics import classification_report # visualize model performance\n",
    "\n",
    "import tensorflow as tf # import tensorflow\n",
    "from keras.callbacks import EarlyStopping # stop training when you have no progress\n",
    "from keras.preprocessing.image import load_img, img_to_array, ImageDataGenerator # work with data through the facade\n",
    "from tensorflow.keras.layers import Input, Dense, Flatten, Activation, Dropout # input, output, hidden layers, activation...\n",
    "from tensorflow.keras.layers import Conv2D, MaxPooling2D # convolutional layer and max pooling\n",
    "from tensorflow.keras.layers import BatchNormalization # optimization, regularization technique"
   ]
  },
  {
   "cell_type": "markdown",
   "metadata": {},
   "source": [
    "Training set consists of 58 388 RGB images (that means 3 channels), 224px x 224px. Validation set consists of 2000 images and test set consists of 2000 images. There are 356 unique bird species in a training dataset. There are 400 unique bird species in validation dataset and 400 bird species in test dataset too. Further statistics can be found in attached document."
   ]
  },
  {
   "cell_type": "code",
   "execution_count": 2,
   "metadata": {
    "execution": {
     "iopub.execute_input": "2021-07-04T19:50:40.928323Z",
     "iopub.status.busy": "2021-07-04T19:50:40.928026Z",
     "iopub.status.idle": "2021-07-04T19:50:40.943859Z",
     "shell.execute_reply": "2021-07-04T19:50:40.943012Z",
     "shell.execute_reply.started": "2021-07-04T19:50:40.928295Z"
    }
   },
   "outputs": [],
   "source": [
    "BASE_DIR = os.getcwd() # extract dataset from Kaggle to same folder as you have in this notebook\n",
    "\n",
    "TRAIN_DIR = os.path.join(BASE_DIR, 'train')\n",
    "VALIDATION_DIR = os.path.join(BASE_DIR, 'valid')\n",
    "TEST_DIR = os.path.join(BASE_DIR, 'testing')"
   ]
  },
  {
   "cell_type": "code",
   "execution_count": 3,
   "metadata": {
    "execution": {
     "iopub.execute_input": "2021-07-04T19:50:45.326576Z",
     "iopub.status.busy": "2021-07-04T19:50:45.326284Z",
     "iopub.status.idle": "2021-07-04T19:50:45.362266Z",
     "shell.execute_reply": "2021-07-04T19:50:45.361629Z",
     "shell.execute_reply.started": "2021-07-04T19:50:45.326533Z"
    }
   },
   "outputs": [],
   "source": [
    "TRAIN_CATEGORIES = os.listdir(TRAIN_DIR)\n",
    "Train_Category_count = len(TRAIN_CATEGORIES) # # 85 % of males, training set is 97 % of the whole dataset\n",
    "\n",
    "VAL_CATEGORIES = os.listdir(VALIDATION_DIR)\n",
    "Val_Category_count = len(VAL_CATEGORIES)\n",
    "\n",
    "TEST_CATEGORIES = os.listdir(TEST_DIR)\n",
    "Test_Category_count = len(TEST_CATEGORIES)"
   ]
  },
  {
   "cell_type": "markdown",
   "metadata": {},
   "source": [
    "Applying standard rescale factor by which all data values would be multiplied. We're doing this because we deal with images in RGB, where pixel values vary between 0 and 255. Such values would be too high for our model to process. This is why I rescale them to interval 0-1.\n",
    "\n",
    "Attribute \"shuffle\" set to True and passed to ImageDataGenerator means application of mini-batch optimization technique."
   ]
  },
  {
   "cell_type": "code",
   "execution_count": 4,
   "metadata": {
    "execution": {
     "iopub.execute_input": "2021-07-04T19:51:00.728664Z",
     "iopub.status.busy": "2021-07-04T19:51:00.728356Z",
     "iopub.status.idle": "2021-07-04T19:51:00.732946Z",
     "shell.execute_reply": "2021-07-04T19:51:00.731797Z",
     "shell.execute_reply.started": "2021-07-04T19:51:00.728632Z"
    }
   },
   "outputs": [],
   "source": [
    "data_iterator = ImageDataGenerator(rescale=1./255,)"
   ]
  },
  {
   "cell_type": "code",
   "execution_count": 5,
   "metadata": {
    "execution": {
     "iopub.execute_input": "2021-07-04T19:51:04.169Z",
     "iopub.status.busy": "2021-07-04T19:51:04.168706Z",
     "iopub.status.idle": "2021-07-04T19:51:11.182658Z",
     "shell.execute_reply": "2021-07-04T19:51:11.180853Z",
     "shell.execute_reply.started": "2021-07-04T19:51:04.168973Z"
    }
   },
   "outputs": [
    {
     "name": "stdout",
     "output_type": "stream",
     "text": [
      "Found 58388 images belonging to 400 classes.\n",
      "Found 2000 images belonging to 400 classes.\n",
      "Found 2000 images belonging to 400 classes.\n"
     ]
    }
   ],
   "source": [
    "train_data = data_iterator.flow_from_directory(\n",
    "    directory = TRAIN_DIR, \n",
    "    batch_size = 32, \n",
    "    shuffle=True,\n",
    "    class_mode=\"categorical\",\n",
    "    target_size=(224,224))\n",
    "\n",
    "validation_data = data_iterator.flow_from_directory(\n",
    "    directory = VALIDATION_DIR, \n",
    "    batch_size = 32,\n",
    "    shuffle = True,\n",
    "    class_mode=\"categorical\",\n",
    "    target_size=(224, 224))\n",
    "\n",
    "test_data = data_iterator.flow_from_directory(\n",
    "    directory = TEST_DIR,\n",
    "    batch_size=32,\n",
    "    shuffle=True,\n",
    "    class_mode=\"categorical\",\n",
    "    target_size=(224, 224))"
   ]
  },
  {
   "cell_type": "markdown",
   "metadata": {},
   "source": [
    "**Architecture of this Convolutional Neural Network**\n",
    "\n",
    "1. Convolutional layer - to extract patterns and abstract from low-level features of the images\n",
    "2. Activation layer - activation functions with a same purpose as they have in Multilayer perceptrons. \n",
    "3. Pooling layer - optimization with Max pooling.\n",
    "4. Normalization layer - batch normalization as optimization technique. Conducted after activation, before another convolution\n",
    "5. Dense layer - fully connected layer of the MLP.\n",
    "\n",
    "Input to this convolutional network are RGB images 224 x 224 px with 3 channels. First convolutional layer works with 3 channels, but this does not mean all convolutional layers have to work with these same 3 channels (they usually create activation maps with more channels).\n",
    "\n",
    "Best practice is to use same activation function across all layers. \n",
    "\n",
    "**Strategy of my Learning Process**\n",
    "\n",
    "1. Setup, build and run my Convolutional Neural Network.\n",
    "2. Check my model performance.\n",
    "3. Conduct more experiments with probably different set of hyperparameters."
   ]
  },
  {
   "cell_type": "code",
   "execution_count": 6,
   "metadata": {
    "execution": {
     "iopub.execute_input": "2021-07-04T19:51:29.362081Z",
     "iopub.status.busy": "2021-07-04T19:51:29.361815Z",
     "iopub.status.idle": "2021-07-04T20:52:37.634659Z",
     "shell.execute_reply": "2021-07-04T20:52:37.633894Z",
     "shell.execute_reply.started": "2021-07-04T19:51:29.362054Z"
    }
   },
   "outputs": [
    {
     "name": "stdout",
     "output_type": "stream",
     "text": [
      "Epoch 1/5\n",
      "1825/1825 [==============================] - 1111s 609ms/step - loss: 5.6467 - accuracy: 0.0163 - val_loss: 5.3468 - val_accuracy: 0.0280\n",
      "Epoch 2/5\n",
      "1825/1825 [==============================] - 1116s 611ms/step - loss: 5.2173 - accuracy: 0.0368 - val_loss: 5.0752 - val_accuracy: 0.0485\n",
      "Epoch 3/5\n",
      "1825/1825 [==============================] - 1216s 666ms/step - loss: 4.9528 - accuracy: 0.0580 - val_loss: 4.7350 - val_accuracy: 0.0765\n",
      "Epoch 4/5\n",
      "1825/1825 [==============================] - 1235s 677ms/step - loss: 4.7514 - accuracy: 0.0761 - val_loss: 4.6120 - val_accuracy: 0.0775\n",
      "Epoch 5/5\n",
      "1825/1825 [==============================] - 1180s 647ms/step - loss: 4.6465 - accuracy: 0.0864 - val_loss: 4.4989 - val_accuracy: 0.0970\n",
      "Epoch 5: early stopping\n"
     ]
    }
   ],
   "source": [
    "tf.keras.backend.clear_session()\n",
    "\n",
    "IMAGE = load_img(os.getcwd() + \"\\\\testing\\\\ABBOTTS BABBLER\\\\1.jpg\")\n",
    "IMAGEDATA = img_to_array(IMAGE)\n",
    "SHAPE = IMAGEDATA.shape\n",
    "\n",
    "model = tf.keras.models.Sequential()\n",
    "\n",
    "# lowest convolutional layer for identification of the edges of birds\n",
    "# input shape is provided, so no deferred initialization https://d2l.ai/chapter_deep-learning-computation/deferred-init.html\n",
    "model.add(Conv2D(32, (3, 3), padding='same', input_shape=SHAPE))\n",
    "model.add(Activation('tanh'))\n",
    "model.add(MaxPooling2D(pool_size=(2, 2)))\n",
    "model.add(BatchNormalization())\n",
    "\n",
    "# convolutional layer to learn and store mid-level features of the bird species\n",
    "model.add(Conv2D(32, (3, 3), padding=\"same\"))\n",
    "model.add(Activation('tanh'))\n",
    "model.add(MaxPooling2D(pool_size=(2, 2)))\n",
    "model.add(BatchNormalization())\n",
    "\n",
    "# highest convolutional layer to store complex information about the look of birds\n",
    "model.add(Conv2D(32, (3, 3), padding='same')) \n",
    "model.add(Activation('tanh'))\n",
    "model.add(MaxPooling2D(pool_size=(2, 2))) \n",
    "model.add(BatchNormalization())\n",
    "\n",
    "# and finally MLP\n",
    "model.add(Flatten()) \n",
    "model.add(Dense(32)) \n",
    "model.add(Activation('tanh'))\n",
    "model.add(Dense(Train_Category_count)) \n",
    "model.add(Activation('softmax'))\n",
    "\n",
    "model.compile(optimizer = \"adam\",\n",
    "               loss = 'categorical_crossentropy',\n",
    "               metrics = ['accuracy'])\n",
    "\n",
    "EPOCHS = 5\n",
    "\n",
    "# stop if there is no big training progress towards good accuracy after 5 epochs\n",
    "# use it if you're going to learn model through more than 5 epochs (e.g. 10)\n",
    "# stop training if the model cannot pass at least 0.5 accuracy after 5 epochs\n",
    "earlyStopCallback = EarlyStopping(monitor='accuracy', mode='max', verbose=1, patience=5, min_delta = 1, baseline=0.5)\n",
    "\n",
    "# do not specify batch sizes here, because generators declared above generate batches\n",
    "history = model.fit(train_data, epochs=EPOCHS, validation_data = validation_data, \n",
    "                    steps_per_epoch=len(train_data), validation_steps = len(validation_data), callbacks=[earlyStopCallback])"
   ]
  },
  {
   "cell_type": "markdown",
   "metadata": {
    "execution": {
     "iopub.execute_input": "2021-07-04T20:52:37.636866Z",
     "iopub.status.busy": "2021-07-04T20:52:37.636632Z",
     "iopub.status.idle": "2021-07-04T20:52:49.030372Z",
     "shell.execute_reply": "2021-07-04T20:52:49.029137Z",
     "shell.execute_reply.started": "2021-07-04T20:52:37.636838Z"
    }
   },
   "source": [
    "**Model Evaluation**\n",
    "\n",
    "This network is simply unable to classify. Validation error is smaller than on a training set. We must increase its computational power and classification accuracy in next experiment."
   ]
  },
  {
   "cell_type": "code",
   "execution_count": 12,
   "metadata": {},
   "outputs": [
    {
     "data": {
      "image/png": "[encoded data removed]",
      "text/plain": [
       "<Figure size 432x288 with 1 Axes>"
      ]
     },
     "metadata": {
      "needs_background": "light"
     },
     "output_type": "display_data"
    },
    {
     "data": {
      "image/png": "[encoded data removed]",
      "text/plain": [
       "<Figure size 432x288 with 1 Axes>"
      ]
     },
     "metadata": {
      "needs_background": "light"
     },
     "output_type": "display_data"
    },
    {
     "name": "stdout",
     "output_type": "stream",
     "text": [
      "63/63 [==============================] - 9s 146ms/step - loss: 4.4410 - accuracy: 0.1040\n",
      "Test loss: 4.441006183624268\n",
      "Test accuracy: 0.10400000214576721\n"
     ]
    },
    {
     "ename": "AttributeError",
     "evalue": "'Sequential' object has no attribute 'params'",
     "output_type": "error",
     "traceback": [
      "\u001b[1;31m---------------------------------------------------------------------------\u001b[0m",
      "\u001b[1;31mAttributeError\u001b[0m                            Traceback (most recent call last)",
      "Input \u001b[1;32mIn [12]\u001b[0m, in \u001b[0;36m<cell line: 21>\u001b[1;34m()\u001b[0m\n\u001b[0;32m     18\u001b[0m \u001b[38;5;28mprint\u001b[39m(\u001b[38;5;124m'\u001b[39m\u001b[38;5;124mTest loss:\u001b[39m\u001b[38;5;124m'\u001b[39m, scores[\u001b[38;5;241m0\u001b[39m])\n\u001b[0;32m     19\u001b[0m \u001b[38;5;28mprint\u001b[39m(\u001b[38;5;124m'\u001b[39m\u001b[38;5;124mTest accuracy:\u001b[39m\u001b[38;5;124m'\u001b[39m, scores[\u001b[38;5;241m1\u001b[39m])\n\u001b[1;32m---> 21\u001b[0m \u001b[38;5;28mprint\u001b[39m(\u001b[43mmodel\u001b[49m\u001b[38;5;241;43m.\u001b[39;49m\u001b[43mparams\u001b[49m)\n\u001b[0;32m     23\u001b[0m \u001b[38;5;66;03m# save model\u001b[39;00m\n\u001b[0;32m     25\u001b[0m model\u001b[38;5;241m.\u001b[39msave(os\u001b[38;5;241m.\u001b[39mgetcwd() \u001b[38;5;241m+\u001b[39m \u001b[38;5;124m'\u001b[39m\u001b[38;5;124m/model-from-2-experiment.h5\u001b[39m\u001b[38;5;124m'\u001b[39m)\n",
      "\u001b[1;31mAttributeError\u001b[0m: 'Sequential' object has no attribute 'params'"
     ]
    }
   ],
   "source": [
    "plt.plot(history.history['accuracy'])\n",
    "plt.plot(history.history['val_accuracy'])\n",
    "plt.title('Model accuracy')\n",
    "plt.ylabel('Accuracy')\n",
    "plt.xlabel('Epoch')\n",
    "plt.legend(['Train', 'Validation'], loc='upper left')\n",
    "plt.show()\n",
    "\n",
    "plt.plot(history.history['loss'])\n",
    "plt.plot(history.history['val_loss'])\n",
    "plt.title('Model loss')\n",
    "plt.ylabel('Loss')\n",
    "plt.xlabel('Epoch')\n",
    "plt.legend(['Train', 'Validation'], loc='upper left')\n",
    "plt.show()\n",
    "\n",
    "scores = model.evaluate(test_data, verbose=1)\n",
    "print('Test loss:', scores[0])\n",
    "print('Test accuracy:', scores[1])\n",
    "\n",
    "# save model for later use\n",
    "\n",
    "model.save(os.getcwd() + '/model-from-2-experiment.h5')"
   ]
  }
 ],
 "metadata": {
  "kernelspec": {
   "display_name": "Python 3 (ipykernel)",
   "language": "python",
   "name": "python3"
  },
  "language_info": {
   "codemirror_mode": {
    "name": "ipython",
    "version": 3
   },
   "file_extension": ".py",
   "mimetype": "text/x-python",
   "name": "python",
   "nbconvert_exporter": "python",
   "pygments_lexer": "ipython3",
   "version": "3.8.0"
  }
 },
 "nbformat": 4,
 "nbformat_minor": 4
}
