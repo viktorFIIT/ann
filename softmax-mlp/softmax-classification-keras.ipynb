{
 "cells": [
  {
   "cell_type": "markdown",
   "id": "a48c0a91",
   "metadata": {},
   "source": [
    "# Softmax Regression - Classification of the wines to classes of quality\n",
    "\n",
    "Label vector is hot-encoded. This means if a wine has been classified to the class no. 6 hot-encoded label looks like this: (0, 0, 0, 0, 0, 1) because only six different classes has been found in the training data (6 different classes on the scale 1-10). Output from a softmax regression for each row of the training dataset is a maximum probability from a vector of probabilities, where each probability is computed as a:\n",
    "\n",
    "ration between exponentiated logits (outputs from linear functions of the neurons) / and sum of the exponentiated logits.\n",
    "See https://d2l.ai/chapter_linear-networks/softmax-regression.html#softmax-operation for futher description.\n",
    "\n",
    "Loss function for this example is a Cross-Entropy Loss and formula for this can be found in https://d2l.ai/chapter_linear-networks/softmax-regression.html#softmax-and-derivatives . Formal definition of a Cross-entropy loss is that it is the expected value of the loss for a distribution over labels.\n",
    "\n",
    "Metric we use to evaluate our model is accuracy, which is a ratio between the number of correct predictions and the total number of predictions.\n",
    "\n",
    "No need to convert attribute with maximum difference between lowest and highest value because this conversion is usually done for highly-skewed data. \n",
    "\n",
    "Train labels are hot-encoded as well. \n",
    "\n",
    "Batch size set to 10, dataset is shuffled before predictions are made. Remember that model cannot work with labels while training.\n",
    "\n",
    "Softmax is described here: https://d2l.ai/chapter_linear-networks/softmax-regression.html"
   ]
  },
  {
   "cell_type": "code",
   "execution_count": 1,
   "id": "c23d5bd5",
   "metadata": {},
   "outputs": [
    {
     "name": "stderr",
     "output_type": "stream",
     "text": [
      "wandb: Appending key for api.wandb.ai to your netrc file: C:\\Users\\vikto/.netrc\n",
      "\u001b[34m\u001b[1mwandb\u001b[0m: Currently logged in as: \u001b[33mnn_fiit\u001b[0m (use `wandb login --relogin` to force relogin)\n"
     ]
    },
    {
     "data": {
      "text/html": [
       "Tracking run with wandb version 0.12.11"
      ],
      "text/plain": [
       "<IPython.core.display.HTML object>"
      ]
     },
     "metadata": {},
     "output_type": "display_data"
    },
    {
     "data": {
      "text/html": [
       "Run data is saved locally in <code>C:\\Users\\vikto\\Downloads\\projects\\NN-projekt\\NN_project1_wine_quality\\tensorflow\\wandb\\run-20220321_194331-2ylvlppi</code>"
      ],
      "text/plain": [
       "<IPython.core.display.HTML object>"
      ]
     },
     "metadata": {},
     "output_type": "display_data"
    },
    {
     "data": {
      "text/html": [
       "Syncing run <strong><a href=\"https://wandb.ai/nn_fiit/project-nn/runs/2ylvlppi\" target=\"_blank\">softmax-regression-tensorflow</a></strong> to <a href=\"https://wandb.ai/nn_fiit/project-nn\" target=\"_blank\">Weights & Biases</a> (<a href=\"https://wandb.me/run\" target=\"_blank\">docs</a>)<br/>"
      ],
      "text/plain": [
       "<IPython.core.display.HTML object>"
      ]
     },
     "metadata": {},
     "output_type": "display_data"
    }
   ],
   "source": [
    "import tensorflow as tf\n",
    "from tensorflow import keras\n",
    "from tensorflow.keras.models import Sequential\n",
    "from tensorflow.keras.layers import Dense\n",
    "from tensorflow.keras.losses import categorical_crossentropy\n",
    "from keras.utils.np_utils import to_categorical\n",
    "from tensorflow.keras.optimizers import Adam\n",
    "\n",
    "from sklearn.metrics import classification_report\n",
    "from sklearn.metrics import confusion_matrix\n",
    "from sklearn.model_selection import train_test_split\n",
    "from sklearn.preprocessing import StandardScaler\n",
    "\n",
    "import numpy as np\n",
    "import pandas as pd\n",
    "import seaborn as sns\n",
    "import matplotlib.pyplot as plt\n",
    "import wandb\n",
    "!wandb login 8b57643f3a4972621becd97c751a7c84995678d4 \n",
    "from wandb.keras import WandbCallback\n",
    "\n",
    "tf.keras.backend.clear_session()\n",
    "\n",
    "wandb.init(name='softmax-regression-tensorflow', \n",
    "           project='project-nn', \n",
    "           tags=['RED_WINE dataset', '1. run'])\n",
    "\n",
    "red_wine = pd.read_csv('winequality-red.csv', sep = ';')\n",
    "train, val, test = np.split(red_wine.sample(frac=1, random_state=42), [int(.6*len(red_wine)), int(.8*len(red_wine))])\n",
    "\n",
    "train.to_csv('winequality-red-train.csv', index=False)\n",
    "test.to_csv('winequality-red-test.csv', index=False)\n",
    "val.to_csv('winequality-red-val.csv', index=False)\n",
    "\n",
    "train_df = pd.read_csv('winequality-red-train.csv', sep = ',')\n",
    "val_df = pd.read_csv('winequality-red-val.csv', sep = ',')\n",
    "test_df = pd.read_csv('winequality-red-test.csv', sep = ',')"
   ]
  },
  {
   "cell_type": "markdown",
   "id": "cd8b68f5",
   "metadata": {},
   "source": [
    "Normalizing dataset"
   ]
  },
  {
   "cell_type": "code",
   "execution_count": 2,
   "id": "d6dccc00",
   "metadata": {},
   "outputs": [],
   "source": [
    "scaler = StandardScaler()\n",
    "train_features = scaler.fit(train.drop(['quality'], axis=1).values)\n",
    "\n",
    "X_train = pd.DataFrame(scaler.transform(train.iloc[:, 0:-1].values))\n",
    "y_train = to_categorical(train.iloc[:,-1].values, 10)\n",
    "\n",
    "X_val = pd.DataFrame(scaler.transform(val.iloc[:, 0:-1].values))\n",
    "y_val = to_categorical(val.iloc[:,-1].values, 10)\n",
    "\n",
    "X_test = pd.DataFrame(scaler.transform(test.iloc[:, 0:-1].values))\n",
    "y_test = to_categorical(test.iloc[:,-1].values, 10)"
   ]
  },
  {
   "cell_type": "markdown",
   "id": "514c8d38",
   "metadata": {},
   "source": [
    "Visualization of class imbalance"
   ]
  },
  {
   "cell_type": "code",
   "execution_count": 3,
   "id": "c8033f61",
   "metadata": {},
   "outputs": [
    {
     "data": {
      "text/plain": [
       "Text(0.5, 0.98, 'Distribution of residual sugar and sulphates')"
      ]
     },
     "execution_count": 3,
     "metadata": {},
     "output_type": "execute_result"
    },
    {
     "data": {
      "image/png": "[encoded data removed]",
      "text/plain": [
       "<Figure size 432x432 with 3 Axes>"
      ]
     },
     "metadata": {
      "needs_background": "light"
     },
     "output_type": "display_data"
    }
   ],
   "source": [
    "# we're dealing with imbalanced dataset\n",
    "# number of examples in one class greatly outnumbers the examples in another\n",
    "# most present classes are 6, 7 and 8\n",
    "class_counts = np.bincount(red_wine['quality'])\n",
    "\n",
    "# visualize distribution of residual sugar and sulphates\n",
    "# you can pass any two columns to compare their values\n",
    "# remember to filter and use only those rows from training dataset which have labels (wine quality) assigned\n",
    "\n",
    "rows_with_labels = pd.DataFrame(np.array(train_df), columns=train_df.columns)\n",
    "\n",
    "sns.jointplot(x=rows_with_labels['residual sugar'], y=rows_with_labels['sulphates'],\n",
    "              kind='hex', xlim=(-5,5), ylim=(-5,5))\n",
    "plt.suptitle(\"Distribution of residual sugar and sulphates\")"
   ]
  },
  {
   "cell_type": "markdown",
   "id": "f1df1acd",
   "metadata": {},
   "source": [
    "Weighting imbalanced classes\n",
    "\n",
    "We don't want to heavily depend to the most present classes in our dataset. There are 422 red wines classified into the 5th quality class but only four of them are in a fourth. We will pass these class weights to the Keras while fitting the model (see below).\n",
    "\n",
    "Weight for a class is  (1/(number of samples with this class))*((sum of the class frequencies)*10) and same approach can be find here: https://www.tensorflow.org/tutorials/structured_data/imbalanced_data"
   ]
  },
  {
   "cell_type": "code",
   "execution_count": 4,
   "id": "069045e9",
   "metadata": {},
   "outputs": [],
   "source": [
    "sum_class = sum(train['quality'].value_counts().sort_index())\n",
    "weights = [sum_class/10, sum_class/10]\n",
    "for class_count in train['quality'].value_counts().sort_index():\n",
    "    weights.append((1/class_count) * (sum_class/10))\n",
    "weights.append(sum_class/10)\n",
    "weights.append(sum_class/10)\n",
    "\n",
    "class_weights = {\n",
    "    0: weights[0],\n",
    "    1: weights[1],\n",
    "    2: weights[2],\n",
    "    3: weights[3],\n",
    "    4: weights[4],\n",
    "    5: weights[5],\n",
    "    6: weights[6],\n",
    "    7: weights[7],\n",
    "    8: weights[8],\n",
    "    9: weights[9],\n",
    "}"
   ]
  },
  {
   "cell_type": "markdown",
   "id": "4c928e22",
   "metadata": {},
   "source": [
    "Setting up model and predicting"
   ]
  },
  {
   "cell_type": "code",
   "execution_count": 5,
   "id": "59e9da78",
   "metadata": {},
   "outputs": [
    {
     "name": "stdout",
     "output_type": "stream",
     "text": [
      "Epoch 1/100\n",
      "30/30 [==============================] - 0s 5ms/step - loss: 6.2154 - accuracy: 0.0083 - val_loss: 2.4707 - val_accuracy: 0.0250 - _timestamp: 1647888217.0000 - _runtime: 6.0000\n",
      "Epoch 2/100\n",
      "30/30 [==============================] - 0s 2ms/step - loss: 5.8576 - accuracy: 0.0678 - val_loss: 2.4137 - val_accuracy: 0.0906 - _timestamp: 1647888217.0000 - _runtime: 6.0000\n",
      "Epoch 3/100\n",
      "30/30 [==============================] - 0s 2ms/step - loss: 5.4977 - accuracy: 0.1074 - val_loss: 2.4074 - val_accuracy: 0.1156 - _timestamp: 1647888217.0000 - _runtime: 6.0000\n",
      "Epoch 4/100\n",
      "30/30 [==============================] - 0s 1ms/step - loss: 5.0120 - accuracy: 0.1189 - val_loss: 2.4499 - val_accuracy: 0.1281 - _timestamp: 1647888217.0000 - _runtime: 6.0000\n",
      "Epoch 5/100\n",
      "30/30 [==============================] - 0s 1ms/step - loss: 4.4802 - accuracy: 0.1241 - val_loss: 2.5065 - val_accuracy: 0.1312 - _timestamp: 1647888217.0000 - _runtime: 6.0000\n",
      "Epoch 6/100\n",
      "30/30 [==============================] - 0s 1ms/step - loss: 4.0309 - accuracy: 0.1241 - val_loss: 2.5224 - val_accuracy: 0.1312 - _timestamp: 1647888217.0000 - _runtime: 6.0000\n",
      "Epoch 7/100\n",
      "30/30 [==============================] - 0s 1ms/step - loss: 3.6266 - accuracy: 0.1230 - val_loss: 2.5115 - val_accuracy: 0.1219 - _timestamp: 1647888217.0000 - _runtime: 6.0000\n",
      "Epoch 8/100\n",
      "30/30 [==============================] - 0s 1ms/step - loss: 3.2758 - accuracy: 0.1157 - val_loss: 2.5166 - val_accuracy: 0.0906 - _timestamp: 1647888217.0000 - _runtime: 6.0000\n",
      "Epoch 9/100\n",
      "30/30 [==============================] - 0s 1ms/step - loss: 3.0795 - accuracy: 0.0511 - val_loss: 2.5311 - val_accuracy: 0.0156 - _timestamp: 1647888217.0000 - _runtime: 6.0000\n",
      "Epoch 10/100\n",
      "30/30 [==============================] - 0s 1ms/step - loss: 2.9531 - accuracy: 0.0334 - val_loss: 2.4646 - val_accuracy: 0.0156 - _timestamp: 1647888217.0000 - _runtime: 6.0000\n",
      "Epoch 11/100\n",
      "30/30 [==============================] - 0s 1ms/step - loss: 2.8672 - accuracy: 0.0219 - val_loss: 2.4090 - val_accuracy: 0.0125 - _timestamp: 1647888217.0000 - _runtime: 6.0000\n",
      "Epoch 12/100\n",
      "30/30 [==============================] - 0s 2ms/step - loss: 2.7983 - accuracy: 0.0250 - val_loss: 2.3418 - val_accuracy: 0.0500 - _timestamp: 1647888217.0000 - _runtime: 6.0000\n",
      "Epoch 13/100\n",
      "30/30 [==============================] - 0s 2ms/step - loss: 2.7382 - accuracy: 0.0678 - val_loss: 2.2624 - val_accuracy: 0.0781 - _timestamp: 1647888217.0000 - _runtime: 6.0000\n",
      "Epoch 14/100\n",
      "30/30 [==============================] - 0s 2ms/step - loss: 2.7468 - accuracy: 0.1105 - val_loss: 2.1871 - val_accuracy: 0.1125 - _timestamp: 1647888217.0000 - _runtime: 6.0000\n",
      "Epoch 15/100\n",
      "30/30 [==============================] - 0s 2ms/step - loss: 2.6680 - accuracy: 0.1627 - val_loss: 2.0923 - val_accuracy: 0.1656 - _timestamp: 1647888217.0000 - _runtime: 6.0000\n",
      "Epoch 16/100\n",
      "30/30 [==============================] - 0s 2ms/step - loss: 2.6047 - accuracy: 0.2044 - val_loss: 2.0277 - val_accuracy: 0.1844 - _timestamp: 1647888218.0000 - _runtime: 7.0000\n",
      "Epoch 17/100\n",
      "30/30 [==============================] - 0s 2ms/step - loss: 2.5322 - accuracy: 0.2033 - val_loss: 2.0175 - val_accuracy: 0.2219 - _timestamp: 1647888218.0000 - _runtime: 7.0000\n",
      "Epoch 18/100\n",
      "30/30 [==============================] - 0s 2ms/step - loss: 2.4855 - accuracy: 0.2357 - val_loss: 1.9381 - val_accuracy: 0.2375 - _timestamp: 1647888218.0000 - _runtime: 7.0000\n",
      "Epoch 19/100\n",
      "30/30 [==============================] - 0s 2ms/step - loss: 2.4108 - accuracy: 0.2492 - val_loss: 1.9077 - val_accuracy: 0.2438 - _timestamp: 1647888218.0000 - _runtime: 7.0000\n",
      "Epoch 20/100\n",
      "30/30 [==============================] - 0s 2ms/step - loss: 2.3926 - accuracy: 0.2711 - val_loss: 1.8401 - val_accuracy: 0.2469 - _timestamp: 1647888218.0000 - _runtime: 7.0000\n",
      "Epoch 21/100\n",
      "30/30 [==============================] - 0s 2ms/step - loss: 2.3977 - accuracy: 0.2742 - val_loss: 1.8158 - val_accuracy: 0.2719 - _timestamp: 1647888218.0000 - _runtime: 7.0000\n",
      "Epoch 22/100\n",
      "30/30 [==============================] - 0s 2ms/step - loss: 2.2459 - accuracy: 0.2805 - val_loss: 1.7879 - val_accuracy: 0.2844 - _timestamp: 1647888218.0000 - _runtime: 7.0000\n",
      "Epoch 23/100\n",
      "30/30 [==============================] - 0s 2ms/step - loss: 2.2283 - accuracy: 0.3014 - val_loss: 1.7809 - val_accuracy: 0.2750 - _timestamp: 1647888218.0000 - _runtime: 7.0000\n",
      "Epoch 24/100\n",
      "30/30 [==============================] - 0s 2ms/step - loss: 2.1757 - accuracy: 0.3191 - val_loss: 1.7582 - val_accuracy: 0.2937 - _timestamp: 1647888218.0000 - _runtime: 7.0000\n",
      "Epoch 25/100\n",
      "30/30 [==============================] - 0s 2ms/step - loss: 2.2024 - accuracy: 0.3014 - val_loss: 1.6936 - val_accuracy: 0.3094 - _timestamp: 1647888218.0000 - _runtime: 7.0000\n",
      "Epoch 26/100\n",
      "30/30 [==============================] - 0s 1ms/step - loss: 2.1194 - accuracy: 0.3274 - val_loss: 1.7061 - val_accuracy: 0.2937 - _timestamp: 1647888218.0000 - _runtime: 7.0000\n",
      "Epoch 27/100\n",
      "30/30 [==============================] - 0s 2ms/step - loss: 2.0873 - accuracy: 0.3170 - val_loss: 1.6626 - val_accuracy: 0.3000 - _timestamp: 1647888218.0000 - _runtime: 7.0000\n",
      "Epoch 28/100\n",
      "30/30 [==============================] - 0s 1ms/step - loss: 2.0383 - accuracy: 0.3191 - val_loss: 1.7028 - val_accuracy: 0.2875 - _timestamp: 1647888218.0000 - _runtime: 7.0000\n",
      "Epoch 29/100\n",
      "30/30 [==============================] - 0s 1ms/step - loss: 2.0221 - accuracy: 0.3462 - val_loss: 1.6629 - val_accuracy: 0.3063 - _timestamp: 1647888218.0000 - _runtime: 7.0000\n",
      "Epoch 30/100\n",
      "30/30 [==============================] - 0s 2ms/step - loss: 1.9302 - accuracy: 0.3285 - val_loss: 1.6568 - val_accuracy: 0.3187 - _timestamp: 1647888218.0000 - _runtime: 7.0000\n",
      "Epoch 31/100\n",
      "30/30 [==============================] - 0s 1ms/step - loss: 1.9037 - accuracy: 0.3483 - val_loss: 1.6581 - val_accuracy: 0.3125 - _timestamp: 1647888218.0000 - _runtime: 7.0000\n",
      "Epoch 32/100\n",
      "30/30 [==============================] - 0s 2ms/step - loss: 1.8668 - accuracy: 0.3462 - val_loss: 1.6133 - val_accuracy: 0.3313 - _timestamp: 1647888218.0000 - _runtime: 7.0000\n",
      "Epoch 33/100\n",
      "30/30 [==============================] - 0s 1ms/step - loss: 1.8721 - accuracy: 0.3545 - val_loss: 1.6280 - val_accuracy: 0.3156 - _timestamp: 1647888218.0000 - _runtime: 7.0000\n",
      "Epoch 34/100\n",
      "30/30 [==============================] - 0s 2ms/step - loss: 1.8208 - accuracy: 0.3577 - val_loss: 1.6299 - val_accuracy: 0.3406 - _timestamp: 1647888218.0000 - _runtime: 7.0000\n",
      "Epoch 35/100\n",
      "30/30 [==============================] - 0s 2ms/step - loss: 1.7962 - accuracy: 0.3556 - val_loss: 1.6043 - val_accuracy: 0.3219 - _timestamp: 1647888218.0000 - _runtime: 7.0000\n",
      "Epoch 36/100\n",
      "30/30 [==============================] - 0s 2ms/step - loss: 1.7855 - accuracy: 0.3493 - val_loss: 1.5946 - val_accuracy: 0.3500 - _timestamp: 1647888219.0000 - _runtime: 8.0000\n",
      "Epoch 37/100\n",
      "30/30 [==============================] - 0s 2ms/step - loss: 1.7487 - accuracy: 0.3900 - val_loss: 1.5916 - val_accuracy: 0.3344 - _timestamp: 1647888219.0000 - _runtime: 8.0000\n",
      "Epoch 38/100\n",
      "30/30 [==============================] - 0s 1ms/step - loss: 1.7463 - accuracy: 0.3556 - val_loss: 1.6275 - val_accuracy: 0.3281 - _timestamp: 1647888219.0000 - _runtime: 8.0000\n",
      "Epoch 39/100\n",
      "30/30 [==============================] - 0s 2ms/step - loss: 1.6943 - accuracy: 0.3629 - val_loss: 1.5789 - val_accuracy: 0.3531 - _timestamp: 1647888219.0000 - _runtime: 8.0000\n",
      "Epoch 40/100\n",
      "30/30 [==============================] - 0s 1ms/step - loss: 1.6679 - accuracy: 0.3806 - val_loss: 1.6110 - val_accuracy: 0.3406 - _timestamp: 1647888219.0000 - _runtime: 8.0000\n",
      "Epoch 41/100\n",
      "30/30 [==============================] - 0s 1ms/step - loss: 1.6564 - accuracy: 0.3827 - val_loss: 1.6329 - val_accuracy: 0.3438 - _timestamp: 1647888219.0000 - _runtime: 8.0000\n",
      "Epoch 42/100\n",
      "30/30 [==============================] - 0s 1ms/step - loss: 1.6258 - accuracy: 0.3660 - val_loss: 1.6095 - val_accuracy: 0.3406 - _timestamp: 1647888219.0000 - _runtime: 8.0000\n",
      "Epoch 43/100\n",
      "30/30 [==============================] - 0s 2ms/step - loss: 1.6179 - accuracy: 0.3900 - val_loss: 1.5612 - val_accuracy: 0.3469 - _timestamp: 1647888219.0000 - _runtime: 8.0000\n"
     ]
    },
    {
     "name": "stdout",
     "output_type": "stream",
     "text": [
      "Epoch 44/100\n",
      "30/30 [==============================] - 0s 1ms/step - loss: 1.6044 - accuracy: 0.3806 - val_loss: 1.6216 - val_accuracy: 0.3344 - _timestamp: 1647888219.0000 - _runtime: 8.0000\n",
      "Epoch 45/100\n",
      "30/30 [==============================] - 0s 2ms/step - loss: 1.5618 - accuracy: 0.3952 - val_loss: 1.5632 - val_accuracy: 0.3531 - _timestamp: 1647888219.0000 - _runtime: 8.0000\n",
      "Epoch 46/100\n",
      "30/30 [==============================] - 0s 1ms/step - loss: 1.5620 - accuracy: 0.3952 - val_loss: 1.6086 - val_accuracy: 0.3438 - _timestamp: 1647888219.0000 - _runtime: 8.0000\n",
      "Epoch 47/100\n",
      "30/30 [==============================] - 0s 1ms/step - loss: 1.5458 - accuracy: 0.3962 - val_loss: 1.5615 - val_accuracy: 0.3500 - _timestamp: 1647888219.0000 - _runtime: 8.0000\n",
      "Epoch 48/100\n",
      "30/30 [==============================] - 0s 1ms/step - loss: 1.5407 - accuracy: 0.3931 - val_loss: 1.5639 - val_accuracy: 0.3625 - _timestamp: 1647888219.0000 - _runtime: 8.0000\n",
      "Epoch 49/100\n",
      "30/30 [==============================] - 0s 1ms/step - loss: 1.5564 - accuracy: 0.3900 - val_loss: 1.6219 - val_accuracy: 0.3406 - _timestamp: 1647888219.0000 - _runtime: 8.0000\n",
      "Epoch 50/100\n",
      "30/30 [==============================] - 0s 1ms/step - loss: 1.5647 - accuracy: 0.3869 - val_loss: 1.6150 - val_accuracy: 0.3375 - _timestamp: 1647888219.0000 - _runtime: 8.0000\n",
      "Epoch 51/100\n",
      "30/30 [==============================] - 0s 2ms/step - loss: 1.5621 - accuracy: 0.3837 - val_loss: 1.5295 - val_accuracy: 0.3625 - _timestamp: 1647888219.0000 - _runtime: 8.0000\n",
      "Epoch 52/100\n",
      "30/30 [==============================] - 0s 1ms/step - loss: 1.5073 - accuracy: 0.3952 - val_loss: 1.6084 - val_accuracy: 0.3438 - _timestamp: 1647888219.0000 - _runtime: 8.0000\n",
      "Epoch 53/100\n",
      "30/30 [==============================] - 0s 1ms/step - loss: 1.5175 - accuracy: 0.3962 - val_loss: 1.5901 - val_accuracy: 0.3562 - _timestamp: 1647888219.0000 - _runtime: 8.0000\n",
      "Epoch 54/100\n",
      "30/30 [==============================] - 0s 1ms/step - loss: 1.5110 - accuracy: 0.3869 - val_loss: 1.5938 - val_accuracy: 0.3438 - _timestamp: 1647888219.0000 - _runtime: 8.0000\n",
      "Epoch 55/100\n",
      "30/30 [==============================] - 0s 1ms/step - loss: 1.4277 - accuracy: 0.4056 - val_loss: 1.6435 - val_accuracy: 0.3406 - _timestamp: 1647888219.0000 - _runtime: 8.0000\n",
      "Epoch 56/100\n",
      "30/30 [==============================] - 0s 2ms/step - loss: 1.4099 - accuracy: 0.3962 - val_loss: 1.5287 - val_accuracy: 0.3844 - _timestamp: 1647888219.0000 - _runtime: 8.0000\n",
      "Epoch 57/100\n",
      "30/30 [==============================] - 0s 2ms/step - loss: 1.3939 - accuracy: 0.4067 - val_loss: 1.5440 - val_accuracy: 0.3812 - _timestamp: 1647888219.0000 - _runtime: 8.0000\n",
      "Epoch 58/100\n",
      "30/30 [==============================] - 0s 1ms/step - loss: 1.3713 - accuracy: 0.4171 - val_loss: 1.5697 - val_accuracy: 0.3625 - _timestamp: 1647888219.0000 - _runtime: 8.0000\n",
      "Epoch 59/100\n",
      "30/30 [==============================] - 0s 1ms/step - loss: 1.3438 - accuracy: 0.3973 - val_loss: 1.5403 - val_accuracy: 0.3719 - _timestamp: 1647888220.0000 - _runtime: 9.0000\n",
      "Epoch 60/100\n",
      "30/30 [==============================] - 0s 1ms/step - loss: 1.3361 - accuracy: 0.4286 - val_loss: 1.5511 - val_accuracy: 0.3750 - _timestamp: 1647888220.0000 - _runtime: 9.0000\n",
      "Epoch 61/100\n",
      "30/30 [==============================] - 0s 1ms/step - loss: 1.3133 - accuracy: 0.3921 - val_loss: 1.6558 - val_accuracy: 0.3438 - _timestamp: 1647888220.0000 - _runtime: 9.0000\n",
      "Epoch 62/100\n",
      "30/30 [==============================] - 0s 1ms/step - loss: 1.3590 - accuracy: 0.4056 - val_loss: 1.5742 - val_accuracy: 0.3688 - _timestamp: 1647888220.0000 - _runtime: 9.0000\n",
      "Epoch 63/100\n",
      "30/30 [==============================] - 0s 1ms/step - loss: 1.3111 - accuracy: 0.4035 - val_loss: 1.5463 - val_accuracy: 0.3719 - _timestamp: 1647888220.0000 - _runtime: 9.0000\n",
      "Epoch 64/100\n",
      "30/30 [==============================] - 0s 2ms/step - loss: 1.2706 - accuracy: 0.4098 - val_loss: 1.5105 - val_accuracy: 0.3812 - _timestamp: 1647888220.0000 - _runtime: 9.0000\n",
      "Epoch 65/100\n",
      "30/30 [==============================] - 0s 1ms/step - loss: 1.3031 - accuracy: 0.4119 - val_loss: 1.5676 - val_accuracy: 0.3750 - _timestamp: 1647888220.0000 - _runtime: 9.0000\n",
      "Epoch 66/100\n",
      "30/30 [==============================] - 0s 1ms/step - loss: 1.2711 - accuracy: 0.4234 - val_loss: 1.5943 - val_accuracy: 0.3594 - _timestamp: 1647888220.0000 - _runtime: 9.0000\n",
      "Epoch 67/100\n",
      "30/30 [==============================] - 0s 2ms/step - loss: 1.2530 - accuracy: 0.4129 - val_loss: 1.5232 - val_accuracy: 0.3875 - _timestamp: 1647888220.0000 - _runtime: 9.0000\n",
      "Epoch 68/100\n",
      "30/30 [==============================] - 0s 1ms/step - loss: 1.2380 - accuracy: 0.4161 - val_loss: 1.5811 - val_accuracy: 0.3562 - _timestamp: 1647888220.0000 - _runtime: 9.0000\n",
      "Epoch 69/100\n",
      "30/30 [==============================] - 0s 1ms/step - loss: 1.2266 - accuracy: 0.4077 - val_loss: 1.5179 - val_accuracy: 0.3844 - _timestamp: 1647888220.0000 - _runtime: 9.0000\n",
      "Epoch 70/100\n",
      "30/30 [==============================] - 0s 2ms/step - loss: 1.2317 - accuracy: 0.4254 - val_loss: 1.5949 - val_accuracy: 0.3625 - _timestamp: 1647888220.0000 - _runtime: 9.0000\n",
      "Epoch 71/100\n",
      "30/30 [==============================] - 0s 1ms/step - loss: 1.2231 - accuracy: 0.4161 - val_loss: 1.5344 - val_accuracy: 0.3875 - _timestamp: 1647888220.0000 - _runtime: 9.0000\n",
      "Epoch 72/100\n",
      "30/30 [==============================] - 0s 1ms/step - loss: 1.2127 - accuracy: 0.4275 - val_loss: 1.5630 - val_accuracy: 0.3750 - _timestamp: 1647888220.0000 - _runtime: 9.0000\n",
      "Epoch 73/100\n",
      "30/30 [==============================] - 0s 1ms/step - loss: 1.1976 - accuracy: 0.4181 - val_loss: 1.5714 - val_accuracy: 0.3594 - _timestamp: 1647888220.0000 - _runtime: 9.0000\n",
      "Epoch 74/100\n",
      "30/30 [==============================] - 0s 1ms/step - loss: 1.2227 - accuracy: 0.4359 - val_loss: 1.5672 - val_accuracy: 0.3719 - _timestamp: 1647888220.0000 - _runtime: 9.0000\n",
      "Epoch 75/100\n",
      "30/30 [==============================] - 0s 1ms/step - loss: 1.1776 - accuracy: 0.4035 - val_loss: 1.5576 - val_accuracy: 0.3594 - _timestamp: 1647888220.0000 - _runtime: 9.0000\n",
      "Epoch 76/100\n",
      "30/30 [==============================] - 0s 1ms/step - loss: 1.1846 - accuracy: 0.4213 - val_loss: 1.5277 - val_accuracy: 0.3938 - _timestamp: 1647888220.0000 - _runtime: 9.0000\n",
      "Epoch 77/100\n",
      "30/30 [==============================] - 0s 1ms/step - loss: 1.1882 - accuracy: 0.4244 - val_loss: 1.5155 - val_accuracy: 0.3938 - _timestamp: 1647888220.0000 - _runtime: 9.0000\n",
      "Epoch 78/100\n",
      "30/30 [==============================] - 0s 1ms/step - loss: 1.1645 - accuracy: 0.4275 - val_loss: 1.5543 - val_accuracy: 0.3750 - _timestamp: 1647888220.0000 - _runtime: 9.0000\n",
      "Epoch 79/100\n",
      "30/30 [==============================] - 0s 1ms/step - loss: 1.1488 - accuracy: 0.4108 - val_loss: 1.5420 - val_accuracy: 0.3812 - _timestamp: 1647888220.0000 - _runtime: 9.0000\n",
      "Epoch 80/100\n",
      "30/30 [==============================] - 0s 1ms/step - loss: 1.1458 - accuracy: 0.4088 - val_loss: 1.5430 - val_accuracy: 0.3688 - _timestamp: 1647888220.0000 - _runtime: 9.0000\n",
      "Epoch 81/100\n",
      "30/30 [==============================] - 0s 1ms/step - loss: 1.1351 - accuracy: 0.4348 - val_loss: 1.5352 - val_accuracy: 0.3812 - _timestamp: 1647888220.0000 - _runtime: 9.0000\n",
      "Epoch 82/100\n",
      "30/30 [==============================] - 0s 1ms/step - loss: 1.1386 - accuracy: 0.4150 - val_loss: 1.5212 - val_accuracy: 0.3812 - _timestamp: 1647888220.0000 - _runtime: 9.0000\n",
      "Epoch 83/100\n",
      "30/30 [==============================] - 0s 2ms/step - loss: 1.1228 - accuracy: 0.4223 - val_loss: 1.5145 - val_accuracy: 0.3812 - _timestamp: 1647888220.0000 - _runtime: 9.0000\n",
      "Epoch 84/100\n",
      "30/30 [==============================] - 0s 1ms/step - loss: 1.1357 - accuracy: 0.4140 - val_loss: 1.5483 - val_accuracy: 0.3719 - _timestamp: 1647888221.0000 - _runtime: 10.0000\n",
      "Epoch 85/100\n",
      "30/30 [==============================] - 0s 1ms/step - loss: 1.1122 - accuracy: 0.4171 - val_loss: 1.5384 - val_accuracy: 0.3812 - _timestamp: 1647888221.0000 - _runtime: 10.0000\n",
      "Epoch 86/100\n",
      "30/30 [==============================] - 0s 1ms/step - loss: 1.1160 - accuracy: 0.4317 - val_loss: 1.5328 - val_accuracy: 0.3719 - _timestamp: 1647888221.0000 - _runtime: 10.0000\n"
     ]
    },
    {
     "name": "stdout",
     "output_type": "stream",
     "text": [
      "Epoch 87/100\n",
      "30/30 [==============================] - 0s 1ms/step - loss: 1.1232 - accuracy: 0.4202 - val_loss: 1.5346 - val_accuracy: 0.3781 - _timestamp: 1647888221.0000 - _runtime: 10.0000\n",
      "Epoch 88/100\n",
      "30/30 [==============================] - 0s 1ms/step - loss: 1.1046 - accuracy: 0.4140 - val_loss: 1.5188 - val_accuracy: 0.3906 - _timestamp: 1647888221.0000 - _runtime: 10.0000\n",
      "Epoch 89/100\n",
      "30/30 [==============================] - 0s 1ms/step - loss: 1.0997 - accuracy: 0.4254 - val_loss: 1.5706 - val_accuracy: 0.3688 - _timestamp: 1647888221.0000 - _runtime: 10.0000\n",
      "Epoch 90/100\n",
      "30/30 [==============================] - 0s 1ms/step - loss: 1.1167 - accuracy: 0.4171 - val_loss: 1.5720 - val_accuracy: 0.3656 - _timestamp: 1647888221.0000 - _runtime: 10.0000\n",
      "Epoch 91/100\n",
      "30/30 [==============================] - 0s 1ms/step - loss: 1.0988 - accuracy: 0.4140 - val_loss: 1.5530 - val_accuracy: 0.3812 - _timestamp: 1647888221.0000 - _runtime: 10.0000\n",
      "Epoch 92/100\n",
      "30/30 [==============================] - 0s 1ms/step - loss: 1.0805 - accuracy: 0.4338 - val_loss: 1.5505 - val_accuracy: 0.3688 - _timestamp: 1647888221.0000 - _runtime: 10.0000\n",
      "Epoch 93/100\n",
      "30/30 [==============================] - 0s 1ms/step - loss: 1.0778 - accuracy: 0.4119 - val_loss: 1.5475 - val_accuracy: 0.3719 - _timestamp: 1647888221.0000 - _runtime: 10.0000\n",
      "Epoch 94/100\n",
      "30/30 [==============================] - 0s 1ms/step - loss: 1.0729 - accuracy: 0.4254 - val_loss: 1.5176 - val_accuracy: 0.3906 - _timestamp: 1647888221.0000 - _runtime: 10.0000\n",
      "Epoch 95/100\n",
      "30/30 [==============================] - 0s 2ms/step - loss: 1.0633 - accuracy: 0.4307 - val_loss: 1.5012 - val_accuracy: 0.3875 - _timestamp: 1647888221.0000 - _runtime: 10.0000\n",
      "Epoch 96/100\n",
      "30/30 [==============================] - 0s 1ms/step - loss: 1.0545 - accuracy: 0.4317 - val_loss: 1.5608 - val_accuracy: 0.3719 - _timestamp: 1647888221.0000 - _runtime: 10.0000\n",
      "Epoch 97/100\n",
      "30/30 [==============================] - 0s 1ms/step - loss: 1.0850 - accuracy: 0.4265 - val_loss: 1.5392 - val_accuracy: 0.3875 - _timestamp: 1647888221.0000 - _runtime: 10.0000\n",
      "Epoch 98/100\n",
      "30/30 [==============================] - 0s 1ms/step - loss: 1.0553 - accuracy: 0.4192 - val_loss: 1.5390 - val_accuracy: 0.3812 - _timestamp: 1647888221.0000 - _runtime: 10.0000\n",
      "Epoch 99/100\n",
      "30/30 [==============================] - 0s 1ms/step - loss: 1.0645 - accuracy: 0.4359 - val_loss: 1.5470 - val_accuracy: 0.3906 - _timestamp: 1647888221.0000 - _runtime: 10.0000\n",
      "Epoch 100/100\n",
      "30/30 [==============================] - 0s 2ms/step - loss: 1.0490 - accuracy: 0.4265 - val_loss: 1.4970 - val_accuracy: 0.3938 - _timestamp: 1647888221.0000 - _runtime: 10.0000\n"
     ]
    },
    {
     "data": {
      "text/plain": [
       "<keras.callbacks.History at 0x1a337775b80>"
      ]
     },
     "execution_count": 5,
     "metadata": {},
     "output_type": "execute_result"
    }
   ],
   "source": [
    "model = tf.keras.Sequential([\n",
    "  tf.keras.layers.Dense(11, activation=\"relu\"),\n",
    "  tf.keras.layers.Dense(10, activation=\"relu\"),\n",
    "  tf.keras.layers.Dense(10, activation=\"relu\"),\n",
    "  tf.keras.layers.Dense(10, activation=\"relu\"),\n",
    "  tf.keras.layers.Dense(10, activation=\"softmax\")\n",
    "])\n",
    "\n",
    "\n",
    "model.compile(optimizer='adam',\n",
    "                loss=categorical_crossentropy,\n",
    "                metrics=[\"accuracy\"])\n",
    "\n",
    "BATCH_SIZE = 32\n",
    "EPOCHS = 100\n",
    "SHUFFLE = True\n",
    "\n",
    "model.fit(X_train, y_train, epochs=EPOCHS, batch_size=BATCH_SIZE, validation_data = (X_val, y_val), shuffle=SHUFFLE, class_weight=class_weights, callbacks=[WandbCallback()])"
   ]
  },
  {
   "cell_type": "markdown",
   "id": "baca22c3",
   "metadata": {},
   "source": [
    "Now we have to evaluate our classification model. Non-overfitting softmax regression model for us is a model with roughly same accuracy on the training, validation and test dataset. Visualization through the confusion matrix will help us evaluate model performance on these three types of the data sets. \n",
    "\n",
    "So now we're going to check our classification accuracy on the training dataset."
   ]
  },
  {
   "cell_type": "code",
   "execution_count": 6,
   "id": "c34bd7f5",
   "metadata": {},
   "outputs": [
    {
     "data": {
      "image/png": "[encoded data removed]",
      "text/plain": [
       "<Figure size 432x432 with 2 Axes>"
      ]
     },
     "metadata": {
      "needs_background": "light"
     },
     "output_type": "display_data"
    }
   ],
   "source": [
    "from sklearn import metrics\n",
    "\n",
    "def plot_confusion_matrix(labels, pred_labels):\n",
    "\n",
    "    fig = plt.figure(figsize=(6, 6))\n",
    "    ax = fig.add_subplot(1, 1, 1)\n",
    "    cm = metrics.confusion_matrix(labels, pred_labels)\n",
    "    cm = metrics.ConfusionMatrixDisplay(cm, display_labels=range(6))\n",
    "    cm.plot(values_format='d', cmap='Blues', ax=ax)\n",
    "    \n",
    "train_set_probabilities_for_classes = model.predict(X_train)\n",
    "# class with a maximum probability is our predicted quality class\n",
    "train_set_predicted_classes = np.argmax(train_set_probabilities_for_classes, axis = 1)\n",
    "y_train_class = np.argmax(y_train, axis = 1)\n",
    "confusion_matrix(y_train_class, train_set_predicted_classes)\n",
    "\n",
    "plot_confusion_matrix(y_train_class, train_set_predicted_classes)"
   ]
  },
  {
   "cell_type": "markdown",
   "id": "576b55a1",
   "metadata": {},
   "source": [
    "Second step is where we have to check our classification capacity on the validation set."
   ]
  },
  {
   "cell_type": "code",
   "execution_count": 7,
   "id": "94473ba1",
   "metadata": {},
   "outputs": [
    {
     "data": {
      "image/png": "[encoded data removed]",
      "text/plain": [
       "<Figure size 432x432 with 2 Axes>"
      ]
     },
     "metadata": {
      "needs_background": "light"
     },
     "output_type": "display_data"
    }
   ],
   "source": [
    "validation_set_probabilities_for_classes = model.predict(X_val)\n",
    "# class with a maximum probability is our predicted quality class\n",
    "validation_set_predicted_classes = np.argmax(validation_set_probabilities_for_classes, axis = 1) \n",
    "y_val_class = np.argmax(y_val, axis = 1)\n",
    "confusion_matrix(y_val_class, validation_set_predicted_classes)\n",
    "\n",
    "plot_confusion_matrix(y_val_class, validation_set_predicted_classes)"
   ]
  },
  {
   "cell_type": "markdown",
   "id": "972e7865",
   "metadata": {},
   "source": [
    "Third step is when we have to check model performance on the test set."
   ]
  },
  {
   "cell_type": "code",
   "execution_count": 8,
   "id": "2933e286",
   "metadata": {},
   "outputs": [
    {
     "data": {
      "image/png": "[encoded data removed]",
      "text/plain": [
       "<Figure size 432x432 with 2 Axes>"
      ]
     },
     "metadata": {
      "needs_background": "light"
     },
     "output_type": "display_data"
    }
   ],
   "source": [
    "test_set_probabilities_for_classes = model.predict(X_test)\n",
    "# class with a maximum probability is our predicted quality class\n",
    "test_set_predicted_classes = np.argmax(test_set_probabilities_for_classes, axis = 1) \n",
    "y_test_class = np.argmax(y_test, axis = 1)\n",
    "confusion_matrix(y_test_class, test_set_predicted_classes)\n",
    "\n",
    "plot_confusion_matrix(y_test_class, test_set_predicted_classes)"
   ]
  },
  {
   "cell_type": "markdown",
   "id": "ca2c1ed9",
   "metadata": {},
   "source": [
    "# Conclusion\n",
    "\n",
    "Our classification model behaves roughly the same on the training, validation and test dataset."
   ]
  }
 ],
 "metadata": {
  "kernelspec": {
   "display_name": "Python 3 (ipykernel)",
   "language": "python",
   "name": "python3"
  },
  "language_info": {
   "codemirror_mode": {
    "name": "ipython",
    "version": 3
   },
   "file_extension": ".py",
   "mimetype": "text/x-python",
   "name": "python",
   "nbconvert_exporter": "python",
   "pygments_lexer": "ipython3",
   "version": "3.9.7"
  }
 },
 "nbformat": 4,
 "nbformat_minor": 5
}
